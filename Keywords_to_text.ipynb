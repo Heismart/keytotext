{
  "nbformat": 4,
  "nbformat_minor": 0,
  "metadata": {
    "colab": {
      "name": "Keywords to text.ipynb",
      "provenance": [],
      "include_colab_link": true
    },
    "kernelspec": {
      "name": "python3",
      "display_name": "Python 3"
    }
  },
  "cells": [
    {
      "cell_type": "markdown",
      "metadata": {
        "id": "view-in-github",
        "colab_type": "text"
      },
      "source": [
        "<a href=\"https://colab.research.google.com/github/gagan3012/keytotext/blob/master/Keywords_to_text.ipynb\" target=\"_parent\"><img src=\"https://colab.research.google.com/assets/colab-badge.svg\" alt=\"Open In Colab\"/></a>"
      ]
    },
    {
      "cell_type": "code",
      "metadata": {
        "id": "jdvm05wYOYBz"
      },
      "source": [
        "!pip install transformers"
      ],
      "execution_count": null,
      "outputs": []
    },
    {
      "cell_type": "code",
      "metadata": {
        "id": "R9rqYndAOx0Z"
      },
      "source": [
        "from transformers import AutoTokenizer, AutoModelWithLMHead\n",
        "import torch\n",
        "tokenizer = AutoTokenizer.from_pretrained(\"zanderbush/ForceWords\")\n",
        "model = AutoModelWithLMHead.from_pretrained(\"zanderbush/ForceWords\")"
      ],
      "execution_count": null,
      "outputs": []
    },
    {
      "cell_type": "code",
      "metadata": {
        "id": "5RsCJ_NlOuV-",
        "colab": {
          "base_uri": "https://localhost:8080/"
        },
        "outputId": "df5c8c3e-23a2-4155-8753-ea9fbcf62f31"
      },
      "source": [
        "import re\n",
        "input_context = str(['He','create', 'company', 'drugs', 'money', 'sex'])\n",
        "length = len(input_context) + 80\n",
        "input_ids = tokenizer.encode(input_context, return_tensors='pt') \n",
        "outputs = model.generate(input_ids=input_ids, max_length=length, do_sample=True, num_return_sequences=5, temperature = 0.1, top_k = 50, top_p = 0.9)\n",
        "for i in range(0,5):\n",
        "    sentence = ('Generated: {}'.format(tokenizer.decode(outputs[i], skip_special_tokens=True)))\n",
        "    sep = '.'\n",
        "    rest = sentence.split(sep, 1)[0]\n",
        "    print(rest + \".\")"
      ],
      "execution_count": null,
      "outputs": [
        {
          "output_type": "stream",
          "text": [
            "Setting `pad_token_id` to `eos_token_id`:50256 for open-end generation.\n"
          ],
          "name": "stderr"
        },
        {
          "output_type": "stream",
          "text": [
            "Generated: ['He', 'create', 'company', 'drugs','money','sex']  -> He created a drug trafficking industry.\n",
            "Generated: ['He', 'create', 'company', 'drugs','money','sex']  -> He created a drug trafficking industry that created money for sex traffickers.\n",
            "Generated: ['He', 'create', 'company', 'drugs','money','sex']  -> He created a drug trafficking industry that created money for sex traffickers.\n",
            "Generated: ['He', 'create', 'company', 'drugs','money','sex']  -> He created a drug-free sex education program for his own children.\n",
            "Generated: ['He', 'create', 'company', 'drugs','money','sex']  -> He created a drug industry that created money for sex offenders.\n"
          ],
          "name": "stdout"
        }
      ]
    },
    {
      "cell_type": "code",
      "metadata": {
        "id": "_DZLemq5EaJH"
      },
      "source": [
        "def set_seed(seed):\n",
        "  torch.manual_seed(seed)\n",
        "  if torch.cuda.is_available():\n",
        "    torch.cuda.manual_seed_all(seed)\n",
        "\n",
        "set_seed(42)\n",
        "\n",
        "#This may work?"
      ],
      "execution_count": null,
      "outputs": []
    },
    {
      "cell_type": "code",
      "metadata": {
        "id": "IZf0vQNXfy_-"
      },
      "source": [
        ""
      ],
      "execution_count": null,
      "outputs": []
    }
  ]
}